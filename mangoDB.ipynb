{
 "cells": [
  {
   "cell_type": "code",
   "execution_count": 1,
   "id": "6fbeb344-56e4-404d-ad35-c146124550fe",
   "metadata": {},
   "outputs": [
    {
     "name": "stdout",
     "output_type": "stream",
     "text": [
      "Collecting pymongo\n",
      "  Downloading pymongo-4.15.3-cp313-cp313-manylinux2014_x86_64.manylinux_2_17_x86_64.manylinux_2_28_x86_64.whl.metadata (22 kB)\n",
      "Collecting dnspython<3.0.0,>=1.16.0 (from pymongo)\n",
      "  Downloading dnspython-2.8.0-py3-none-any.whl.metadata (5.7 kB)\n",
      "Downloading pymongo-4.15.3-cp313-cp313-manylinux2014_x86_64.manylinux_2_17_x86_64.manylinux_2_28_x86_64.whl (2.0 MB)\n",
      "\u001b[2K   \u001b[38;2;114;156;31m━━━━━━━━━━━━━━━━━━━━━━━━━━━━━━━━━━━━━━━━\u001b[0m \u001b[32m2.0/2.0 MB\u001b[0m \u001b[31m7.4 MB/s\u001b[0m eta \u001b[36m0:00:00\u001b[0m MB/s\u001b[0m eta \u001b[36m0:00:01\u001b[0m\n",
      "\u001b[?25hDownloading dnspython-2.8.0-py3-none-any.whl (331 kB)\n",
      "Installing collected packages: dnspython, pymongo\n",
      "\u001b[2K   \u001b[38;2;114;156;31m━━━━━━━━━━━━━━━━━━━━━━━━━━━━━━━━━━━━━━━━\u001b[0m \u001b[32m2/2\u001b[0m [pymongo]━━━\u001b[0m \u001b[32m1/2\u001b[0m [pymongo]\n",
      "Successfully installed dnspython-2.8.0 pymongo-4.15.3\n"
     ]
    }
   ],
   "source": [
    "# Install pymongo (jika belum terpasang)\n",
    "!pip install pymongo"
   ]
  },
  {
   "cell_type": "code",
   "execution_count": 3,
   "id": "a523f170-3c73-466c-94de-67f894d4d512",
   "metadata": {},
   "outputs": [
    {
     "name": "stdout",
     "output_type": "stream",
     "text": [
      "Connected to MongoDB\n"
     ]
    }
   ],
   "source": [
    "from pymongo import MongoClient\n",
    "\n",
    "# Inisialisasi client dan koneksi ke database\n",
    "client = MongoClient('mongodb://localhost:27017/')\n",
    "db = client['company_db']\n",
    "collection = db['employees']\n",
    "\n",
    "# Contoh untuk memastikan koneksi\n",
    "print('Connected to MongoDB')\n"
   ]
  },
  {
   "cell_type": "code",
   "execution_count": 4,
   "id": "f8176f75-321e-4949-bc6e-b61a827906d2",
   "metadata": {},
   "outputs": [
    {
     "name": "stdout",
     "output_type": "stream",
     "text": [
      "1 Data inserted (Alice)\n",
      "Multiple data inserted!\n",
      "\n",
      "=== All Employees ===\n",
      "{'_id': ObjectId('6902e49b021a6de543b4c59e'), 'name': 'Alice', 'department': 'Finance', 'age': 29, 'salary': 4500}\n",
      "{'_id': ObjectId('6902e49b021a6de543b4c59f'), 'name': 'Bob', 'department': 'IT', 'age': 31, 'salary': 5000}\n",
      "{'_id': ObjectId('6902e49b021a6de543b4c5a0'), 'name': 'Charlie', 'department': 'HR', 'age': 26, 'salary': 3800}\n",
      "{'_id': ObjectId('6902e49b021a6de543b4c5a1'), 'name': 'Diana', 'department': 'Marketing', 'age': 27, 'salary': 4200}\n",
      "\n",
      "Updated Charlie's salary!\n",
      "Deleted Diana's record!\n",
      "\n",
      "=== Final Employee Data ===\n",
      "{'_id': ObjectId('6902e49b021a6de543b4c59e'), 'name': 'Alice', 'department': 'Finance', 'age': 29, 'salary': 4500}\n",
      "{'_id': ObjectId('6902e49b021a6de543b4c59f'), 'name': 'Bob', 'department': 'IT', 'age': 31, 'salary': 5000}\n",
      "{'_id': ObjectId('6902e49b021a6de543b4c5a0'), 'name': 'Charlie', 'department': 'HR', 'age': 26, 'salary': 4000}\n"
     ]
    }
   ],
   "source": [
    "# --- Tugas: CRUD di MongoDB ---\n",
    "\n",
    "# 1️⃣ Insert satu data\n",
    "employee_data = {\n",
    "    'name': 'Alice',\n",
    "    'department': 'Finance',\n",
    "    'age': 29,\n",
    "    'salary': 4500\n",
    "}\n",
    "collection.insert_one(employee_data)\n",
    "print('1 Data inserted (Alice)')\n",
    "\n",
    "# 2️⃣ Insert beberapa data tambahan\n",
    "more_employees = [\n",
    "    {'name': 'Bob', 'department': 'IT', 'age': 31, 'salary': 5000},\n",
    "    {'name': 'Charlie', 'department': 'HR', 'age': 26, 'salary': 3800},\n",
    "    {'name': 'Diana', 'department': 'Marketing', 'age': 27, 'salary': 4200}\n",
    "]\n",
    "collection.insert_many(more_employees)\n",
    "print('Multiple data inserted!')\n",
    "\n",
    "# 3️⃣ Menampilkan semua data\n",
    "print(\"\\n=== All Employees ===\")\n",
    "for doc in collection.find():\n",
    "    print(doc)\n",
    "\n",
    "# 4️⃣ Update data (contoh: ubah gaji Charlie)\n",
    "collection.update_one(\n",
    "    {'name': 'Charlie'},             # kondisi data yang mau diupdate\n",
    "    {'$set': {'salary': 4000}}       # nilai baru\n",
    ")\n",
    "print(\"\\nUpdated Charlie's salary!\")\n",
    "\n",
    "# 5️⃣ Delete data (contoh: hapus data Diana)\n",
    "collection.delete_one({'name': 'Diana'})\n",
    "print(\"Deleted Diana's record!\")\n",
    "\n",
    "# 6️⃣ Tampilkan kembali data setelah update & delete\n",
    "print(\"\\n=== Final Employee Data ===\")\n",
    "for doc in collection.find():\n",
    "    print(doc)\n"
   ]
  },
  {
   "cell_type": "code",
   "execution_count": 5,
   "id": "76b3e6fd-3812-413a-a7ed-0cffc96fd652",
   "metadata": {},
   "outputs": [
    {
     "name": "stdout",
     "output_type": "stream",
     "text": [
      "=== Average Salary per Department ===\n",
      "Department: Finance, Average Salary: 4500.00\n",
      "Department: IT, Average Salary: 5000.00\n",
      "Department: HR, Average Salary: 4000.00\n"
     ]
    }
   ],
   "source": [
    "# Query Aggregation untuk mencari rata-rata gaji per departemen\n",
    "pipeline = [\n",
    "    {\n",
    "        '$group': {\n",
    "            '_id': '$department',              # Mengelompokkan berdasarkan kolom 'department'\n",
    "            'average_salary': {'$avg': '$salary'}  # Menghitung rata-rata gaji tiap kelompok\n",
    "        }\n",
    "    }\n",
    "]\n",
    "\n",
    "print(\"=== Average Salary per Department ===\")\n",
    "for result in collection.aggregate(pipeline):\n",
    "    print(f\"Department: {result['_id']}, Average Salary: {result['average_salary']:.2f}\")\n"
   ]
  },
  {
   "cell_type": "code",
   "execution_count": 6,
   "id": "8b4949a4-8e00-4dee-8995-e7a860d91912",
   "metadata": {},
   "outputs": [
    {
     "name": "stdout",
     "output_type": "stream",
     "text": [
      "✅ 10 produk berhasil dimasukkan ke koleksi 'products'\n"
     ]
    }
   ],
   "source": [
    "#latihan 4.1\n",
    "# Buat koleksi baru bernama 'products'\n",
    "products = db['products']\n",
    "\n",
    "# Tambahkan minimal 10 data produk\n",
    "product_data = [\n",
    "    {'name': 'Laptop', 'category': 'Electronics', 'price': 8500},\n",
    "    {'name': 'Mouse', 'category': 'Electronics', 'price': 250},\n",
    "    {'name': 'Keyboard', 'category': 'Electronics', 'price': 400},\n",
    "    {'name': 'Monitor', 'category': 'Electronics', 'price': 2000},\n",
    "    {'name': 'Chair', 'category': 'Furniture', 'price': 1200},\n",
    "    {'name': 'Table', 'category': 'Furniture', 'price': 1500},\n",
    "    {'name': 'Sofa', 'category': 'Furniture', 'price': 3500},\n",
    "    {'name': 'Notebook', 'category': 'Stationery', 'price': 50},\n",
    "    {'name': 'Pen', 'category': 'Stationery', 'price': 30},\n",
    "    {'name': 'Ruler', 'category': 'Stationery', 'price': 20}\n",
    "]\n",
    "\n",
    "# Masukkan ke koleksi\n",
    "products.insert_many(product_data)\n",
    "print(\"✅ 10 produk berhasil dimasukkan ke koleksi 'products'\")\n"
   ]
  },
  {
   "cell_type": "code",
   "execution_count": 7,
   "id": "e08e1cc2-adc6-49d0-aa9c-4b777af79b5d",
   "metadata": {},
   "outputs": [
    {
     "name": "stdout",
     "output_type": "stream",
     "text": [
      "💰 Rata-rata harga produk: 1745.00\n",
      "\n",
      "=== Produk dengan harga di atas rata-rata ===\n",
      "Laptop - Electronics - Rp8500\n",
      "Monitor - Electronics - Rp2000\n",
      "Sofa - Furniture - Rp3500\n"
     ]
    }
   ],
   "source": [
    "#latihan 4.2\n",
    "# Hitung rata-rata harga\n",
    "pipeline_avg = [\n",
    "    {'$group': {'_id': None, 'avg_price': {'$avg': '$price'}}}\n",
    "]\n",
    "avg_result = list(products.aggregate(pipeline_avg))[0]['avg_price']\n",
    "print(f\"💰 Rata-rata harga produk: {avg_result:.2f}\\n\")\n",
    "\n",
    "# Cari produk dengan harga di atas rata-rata\n",
    "print(\"=== Produk dengan harga di atas rata-rata ===\")\n",
    "for p in products.find({'price': {'$gt': avg_result}}):\n",
    "    print(f\"{p['name']} - {p['category']} - Rp{p['price']}\")\n"
   ]
  },
  {
   "cell_type": "code",
   "execution_count": 8,
   "id": "6bf3c85a-bddd-46c8-93cb-9d6d4dbf2b3d",
   "metadata": {},
   "outputs": [
    {
     "name": "stdout",
     "output_type": "stream",
     "text": [
      "\n",
      "=== Total Produk per Kategori ===\n",
      "Kategori: Furniture, Jumlah Produk: 3\n",
      "Kategori: Electronics, Jumlah Produk: 4\n",
      "Kategori: Stationery, Jumlah Produk: 3\n"
     ]
    }
   ],
   "source": [
    "#latihan 4.3\n",
    "pipeline_count = [\n",
    "    {'$group': {'_id': '$category', 'total_products': {'$sum': 1}}}\n",
    "]\n",
    "\n",
    "print(\"\\n=== Total Produk per Kategori ===\")\n",
    "for result in products.aggregate(pipeline_count):\n",
    "    print(f\"Kategori: {result['_id']}, Jumlah Produk: {result['total_products']}\")\n"
   ]
  },
  {
   "cell_type": "code",
   "execution_count": 9,
   "id": "adf85374-2d33-4430-9ead-a6196652e4fb",
   "metadata": {},
   "outputs": [
    {
     "name": "stdout",
     "output_type": "stream",
     "text": [
      "=== 5 Karyawan dengan Gaji Tertinggi per Departemen ===\n",
      "\n",
      "Departemen: Finance\n",
      "- Alice | Gaji: 4500\n",
      "\n",
      "Departemen: IT\n",
      "- Bob | Gaji: 5000\n",
      "\n",
      "Departemen: HR\n",
      "- Charlie | Gaji: 4000\n"
     ]
    }
   ],
   "source": [
    "#tugas 1\n",
    "pipeline_top5 = [\n",
    "    {'$sort': {'department': 1, 'salary': -1}},  # Urutkan per departemen dan gaji tertinggi\n",
    "    {'$group': {\n",
    "        '_id': '$department',\n",
    "        'top5_employees': {'$push': {'name': '$name', 'salary': '$salary'}},\n",
    "    }},\n",
    "    {'$project': {\n",
    "        '_id': 1,\n",
    "        'top5_employees': {'$slice': ['$top5_employees', 5]}  # Ambil hanya 5 teratas\n",
    "    }}\n",
    "]\n",
    "\n",
    "print(\"=== 5 Karyawan dengan Gaji Tertinggi per Departemen ===\")\n",
    "for dept in collection.aggregate(pipeline_top5):\n",
    "    print(f\"\\nDepartemen: {dept['_id']}\")\n",
    "    for emp in dept['top5_employees']:\n",
    "        print(f\"- {emp['name']} | Gaji: {emp['salary']}\")\n"
   ]
  },
  {
   "cell_type": "code",
   "execution_count": 10,
   "id": "7220f6a7-9d21-4d83-b220-47f0167560b7",
   "metadata": {},
   "outputs": [
    {
     "name": "stdout",
     "output_type": "stream",
     "text": [
      "\n",
      "🗑️ 0 karyawan berusia di bawah 25 tahun telah dihapus.\n"
     ]
    }
   ],
   "source": [
    "#tugas 2\n",
    "result = collection.delete_many({'age': {'$lt': 25}})\n",
    "print(f\"\\n🗑️ {result.deleted_count} karyawan berusia di bawah 25 tahun telah dihapus.\")"
   ]
  },
  {
   "cell_type": "code",
   "execution_count": 11,
   "id": "de0b59b0-16ea-4b52-9b9f-18f1edacdd94",
   "metadata": {},
   "outputs": [
    {
     "name": "stdout",
     "output_type": "stream",
     "text": [
      "\n",
      "=== Laporan Total Gaji & Rata-rata Umur per Departemen ===\n",
      "Departemen: HR\n",
      "  Total Gaji : 4000\n",
      "  Rata-rata Umur : 26.00\n",
      "\n",
      "Departemen: IT\n",
      "  Total Gaji : 5000\n",
      "  Rata-rata Umur : 31.00\n",
      "\n",
      "Departemen: Finance\n",
      "  Total Gaji : 4500\n",
      "  Rata-rata Umur : 29.00\n",
      "\n"
     ]
    }
   ],
   "source": [
    "#tugas 3\n",
    "pipeline_report = [\n",
    "    {'$group': {\n",
    "        '_id': '$department',\n",
    "        'total_salary': {'$sum': '$salary'},\n",
    "        'average_age': {'$avg': '$age'}\n",
    "    }}\n",
    "]\n",
    "\n",
    "print(\"\\n=== Laporan Total Gaji & Rata-rata Umur per Departemen ===\")\n",
    "for dept in collection.aggregate(pipeline_report):\n",
    "    print(f\"Departemen: {dept['_id']}\")\n",
    "    print(f\"  Total Gaji : {dept['total_salary']}\")\n",
    "    print(f\"  Rata-rata Umur : {dept['average_age']:.2f}\\n\")\n"
   ]
  },
  {
   "cell_type": "code",
   "execution_count": null,
   "id": "2274b020-47fd-4607-884f-cc2021a80fff",
   "metadata": {},
   "outputs": [],
   "source": []
  }
 ],
 "metadata": {
  "kernelspec": {
   "display_name": "Python [conda env:base] *",
   "language": "python",
   "name": "conda-base-py"
  },
  "language_info": {
   "codemirror_mode": {
    "name": "ipython",
    "version": 3
   },
   "file_extension": ".py",
   "mimetype": "text/x-python",
   "name": "python",
   "nbconvert_exporter": "python",
   "pygments_lexer": "ipython3",
   "version": "3.13.5"
  }
 },
 "nbformat": 4,
 "nbformat_minor": 5
}
